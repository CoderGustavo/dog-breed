{
 "cells": [
  {
   "cell_type": "markdown",
   "metadata": {},
   "source": [
    "Project about dog breeds"
   ]
  },
  {
   "cell_type": "markdown",
   "metadata": {},
   "source": [
    "Install dependencies"
   ]
  },
  {
   "cell_type": "code",
   "execution_count": 4,
   "metadata": {},
   "outputs": [
    {
     "name": "stdout",
     "output_type": "stream",
     "text": [
      "Requirement already satisfied: pandas in ./.venv/lib/python3.12/site-packages (2.2.3)\n",
      "Requirement already satisfied: numpy>=1.26.0 in ./.venv/lib/python3.12/site-packages (from pandas) (2.1.3)\n",
      "Requirement already satisfied: python-dateutil>=2.8.2 in ./.venv/lib/python3.12/site-packages (from pandas) (2.9.0.post0)\n",
      "Requirement already satisfied: pytz>=2020.1 in ./.venv/lib/python3.12/site-packages (from pandas) (2024.2)\n",
      "Requirement already satisfied: tzdata>=2022.7 in ./.venv/lib/python3.12/site-packages (from pandas) (2024.2)\n",
      "Requirement already satisfied: six>=1.5 in ./.venv/lib/python3.12/site-packages (from python-dateutil>=2.8.2->pandas) (1.16.0)\n",
      "Note: you may need to restart the kernel to use updated packages.\n",
      "Requirement already satisfied: scikit-learn in ./.venv/lib/python3.12/site-packages (1.5.2)\n",
      "Requirement already satisfied: numpy>=1.19.5 in ./.venv/lib/python3.12/site-packages (from scikit-learn) (2.1.3)\n",
      "Requirement already satisfied: scipy>=1.6.0 in ./.venv/lib/python3.12/site-packages (from scikit-learn) (1.14.1)\n",
      "Requirement already satisfied: joblib>=1.2.0 in ./.venv/lib/python3.12/site-packages (from scikit-learn) (1.4.2)\n",
      "Requirement already satisfied: threadpoolctl>=3.1.0 in ./.venv/lib/python3.12/site-packages (from scikit-learn) (3.5.0)\n",
      "Note: you may need to restart the kernel to use updated packages.\n"
     ]
    }
   ],
   "source": [
    "%pip install pandas\n",
    "%pip install scikit-learn"
   ]
  },
  {
   "cell_type": "markdown",
   "metadata": {},
   "source": [
    "Import Dependencies"
   ]
  },
  {
   "cell_type": "code",
   "execution_count": 97,
   "metadata": {},
   "outputs": [],
   "source": [
    "import pandas as pd\n",
    "from sklearn.model_selection import train_test_split\n",
    "from sklearn.naive_bayes import GaussianNB\n",
    "from sklearn.metrics import confusion_matrix, accuracy_score\n",
    "from sklearn.preprocessing import LabelEncoder"
   ]
  },
  {
   "cell_type": "markdown",
   "metadata": {},
   "source": [
    "Import csv and show initial lines"
   ]
  },
  {
   "cell_type": "code",
   "execution_count": 98,
   "metadata": {},
   "outputs": [
    {
     "data": {
      "text/html": [
       "<div>\n",
       "<style scoped>\n",
       "    .dataframe tbody tr th:only-of-type {\n",
       "        vertical-align: middle;\n",
       "    }\n",
       "\n",
       "    .dataframe tbody tr th {\n",
       "        vertical-align: top;\n",
       "    }\n",
       "\n",
       "    .dataframe thead th {\n",
       "        text-align: right;\n",
       "    }\n",
       "</style>\n",
       "<table border=\"1\" class=\"dataframe\">\n",
       "  <thead>\n",
       "    <tr style=\"text-align: right;\">\n",
       "      <th></th>\n",
       "      <th>Name</th>\n",
       "      <th>Origin</th>\n",
       "      <th>Type</th>\n",
       "      <th>Unique Feature</th>\n",
       "      <th>Friendly Rating (1-10)</th>\n",
       "      <th>Life Span</th>\n",
       "      <th>Size</th>\n",
       "      <th>Grooming Needs</th>\n",
       "      <th>Exercise Requirements (hrs/day)</th>\n",
       "      <th>Good with Children</th>\n",
       "      <th>Intelligence Rating (1-10)</th>\n",
       "      <th>Shedding Level</th>\n",
       "      <th>Health Issues Risk</th>\n",
       "      <th>Average Weight (kg)</th>\n",
       "      <th>Training Difficulty (1-10)</th>\n",
       "    </tr>\n",
       "  </thead>\n",
       "  <tbody>\n",
       "    <tr>\n",
       "      <th>0</th>\n",
       "      <td>Affenpinscher</td>\n",
       "      <td>Germany</td>\n",
       "      <td>Toy</td>\n",
       "      <td>Monkey-like face</td>\n",
       "      <td>7</td>\n",
       "      <td>14</td>\n",
       "      <td>Small</td>\n",
       "      <td>High</td>\n",
       "      <td>1.5</td>\n",
       "      <td>Yes</td>\n",
       "      <td>8</td>\n",
       "      <td>Moderate</td>\n",
       "      <td>Low</td>\n",
       "      <td>4</td>\n",
       "      <td>6</td>\n",
       "    </tr>\n",
       "    <tr>\n",
       "      <th>1</th>\n",
       "      <td>Afghan Hound</td>\n",
       "      <td>Afghanistan</td>\n",
       "      <td>Hound</td>\n",
       "      <td>Long silky coat</td>\n",
       "      <td>5</td>\n",
       "      <td>13</td>\n",
       "      <td>Large</td>\n",
       "      <td>Very High</td>\n",
       "      <td>2.0</td>\n",
       "      <td>No</td>\n",
       "      <td>4</td>\n",
       "      <td>High</td>\n",
       "      <td>Moderate</td>\n",
       "      <td>25</td>\n",
       "      <td>8</td>\n",
       "    </tr>\n",
       "    <tr>\n",
       "      <th>2</th>\n",
       "      <td>Airedale Terrier</td>\n",
       "      <td>England</td>\n",
       "      <td>Terrier</td>\n",
       "      <td>Largest of terriers</td>\n",
       "      <td>8</td>\n",
       "      <td>12</td>\n",
       "      <td>Medium</td>\n",
       "      <td>High</td>\n",
       "      <td>2.0</td>\n",
       "      <td>Yes</td>\n",
       "      <td>7</td>\n",
       "      <td>Moderate</td>\n",
       "      <td>Low</td>\n",
       "      <td>21</td>\n",
       "      <td>6</td>\n",
       "    </tr>\n",
       "    <tr>\n",
       "      <th>3</th>\n",
       "      <td>Akita</td>\n",
       "      <td>Japan</td>\n",
       "      <td>Working</td>\n",
       "      <td>Strong loyalty</td>\n",
       "      <td>6</td>\n",
       "      <td>11</td>\n",
       "      <td>Large</td>\n",
       "      <td>Moderate</td>\n",
       "      <td>2.0</td>\n",
       "      <td>With Training</td>\n",
       "      <td>7</td>\n",
       "      <td>High</td>\n",
       "      <td>High</td>\n",
       "      <td>45</td>\n",
       "      <td>9</td>\n",
       "    </tr>\n",
       "    <tr>\n",
       "      <th>4</th>\n",
       "      <td>Alaskan Malamute</td>\n",
       "      <td>Alaska USA</td>\n",
       "      <td>Working</td>\n",
       "      <td>Strong pulling ability</td>\n",
       "      <td>7</td>\n",
       "      <td>11</td>\n",
       "      <td>Large</td>\n",
       "      <td>High</td>\n",
       "      <td>3.0</td>\n",
       "      <td>Yes</td>\n",
       "      <td>6</td>\n",
       "      <td>Very High</td>\n",
       "      <td>Moderate</td>\n",
       "      <td>36</td>\n",
       "      <td>8</td>\n",
       "    </tr>\n",
       "  </tbody>\n",
       "</table>\n",
       "</div>"
      ],
      "text/plain": [
       "               Name       Origin     Type          Unique Feature  \\\n",
       "0     Affenpinscher      Germany      Toy        Monkey-like face   \n",
       "1      Afghan Hound  Afghanistan    Hound         Long silky coat   \n",
       "2  Airedale Terrier      England  Terrier     Largest of terriers   \n",
       "3             Akita        Japan  Working          Strong loyalty   \n",
       "4  Alaskan Malamute   Alaska USA  Working  Strong pulling ability   \n",
       "\n",
       "   Friendly Rating (1-10)  Life Span    Size Grooming Needs  \\\n",
       "0                       7         14   Small           High   \n",
       "1                       5         13   Large      Very High   \n",
       "2                       8         12  Medium           High   \n",
       "3                       6         11   Large       Moderate   \n",
       "4                       7         11   Large           High   \n",
       "\n",
       "   Exercise Requirements (hrs/day) Good with Children  \\\n",
       "0                              1.5                Yes   \n",
       "1                              2.0                 No   \n",
       "2                              2.0                Yes   \n",
       "3                              2.0      With Training   \n",
       "4                              3.0                Yes   \n",
       "\n",
       "   Intelligence Rating (1-10) Shedding Level Health Issues Risk  \\\n",
       "0                           8       Moderate                Low   \n",
       "1                           4           High           Moderate   \n",
       "2                           7       Moderate                Low   \n",
       "3                           7           High               High   \n",
       "4                           6      Very High           Moderate   \n",
       "\n",
       "  Average Weight (kg)  Training Difficulty (1-10)  \n",
       "0                   4                           6  \n",
       "1                  25                           8  \n",
       "2                  21                           6  \n",
       "3                  45                           9  \n",
       "4                  36                           8  "
      ]
     },
     "execution_count": 98,
     "metadata": {},
     "output_type": "execute_result"
    }
   ],
   "source": [
    "file_path = './Dog Breads Around The World.csv'\n",
    "df = pd.read_csv(file_path)\n",
    "\n",
    "df.head()\n"
   ]
  },
  {
   "cell_type": "markdown",
   "metadata": {},
   "source": [
    "preprocess"
   ]
  },
  {
   "cell_type": "code",
   "execution_count": 109,
   "metadata": {},
   "outputs": [],
   "source": [
    "def preprocess_data(df):\n",
    "    # column_name = \"Good with Children\"\n",
    "    # value_to_remove = \"With Training\"\n",
    "\n",
    "    # df = df[df[column_name] != value_to_remove]\n",
    "\n",
    "    df = df.drop(columns=['Name', 'Type', 'Unique Feature'])\n",
    "\n",
    "    label_encoders = {}\n",
    "    for col in df.select_dtypes(include='object').columns:\n",
    "        le = LabelEncoder()\n",
    "        df[col] = le.fit_transform(df[col])\n",
    "        label_encoders[col] = le\n",
    "\n",
    "    return df, label_encoders\n"
   ]
  },
  {
   "cell_type": "markdown",
   "metadata": {},
   "source": [
    "Split target column"
   ]
  },
  {
   "cell_type": "code",
   "execution_count": 110,
   "metadata": {},
   "outputs": [],
   "source": [
    "def separate_features_and_target(df, target_col='Friendly Rating (1-10)'):\n",
    "    X = df.drop(columns=target_col)\n",
    "    y = df[target_col]\n",
    "    return X, y"
   ]
  },
  {
   "cell_type": "markdown",
   "metadata": {},
   "source": [
    "Train and test using model"
   ]
  },
  {
   "cell_type": "code",
   "execution_count": 111,
   "metadata": {},
   "outputs": [],
   "source": [
    "def train_and_evaluate_model(X, y):\n",
    "\n",
    "    X_train, X_test, y_train, y_test = train_test_split(X, y, test_size=0.2, random_state=42)\n",
    "\n",
    "    model = GaussianNB()\n",
    "    model.fit(X_train, y_train)\n",
    "\n",
    "    y_pred = model.predict(X_test)\n",
    "\n",
    "    acc = accuracy_score(y_test, y_pred)\n",
    "    conf_matrix = confusion_matrix(y_test, y_pred)\n",
    "\n",
    "    columns_order = X_train.columns\n",
    "\n",
    "    return model, acc, conf_matrix, columns_order"
   ]
  },
  {
   "cell_type": "markdown",
   "metadata": {},
   "source": [
    "Predict with new value"
   ]
  },
  {
   "cell_type": "code",
   "execution_count": 134,
   "metadata": {},
   "outputs": [],
   "source": [
    "def predict_new_value(model, new_data, label_encoders, columns_order):\n",
    "    # Certifique-se de que `new_data` tenha todas as colunas no mesmo formato\n",
    "    for col, le in label_encoders.items():\n",
    "        if col in new_data.columns:\n",
    "            try:\n",
    "                new_data[col] = le.transform(new_data[col])\n",
    "            except:\n",
    "                new_data[col] = 0\n",
    "\n",
    "    # Adicione quaisquer colunas faltantes com valor zero ou valor médio\n",
    "    for col in columns_order:\n",
    "        if col not in new_data.columns:\n",
    "            new_data[col] = 0  # ou algum valor padrão, como média da coluna no treino\n",
    "\n",
    "    # Organize `new_data` na mesma ordem de colunas que o modelo espera\n",
    "    new_data = new_data[columns_order]\n",
    "\n",
    "    # Fazer a previsão\n",
    "    predicted_rating = model.predict(new_data)\n",
    "    print(predicted_rating)\n",
    "    return predicted_rating[0]"
   ]
  },
  {
   "cell_type": "markdown",
   "metadata": {},
   "source": [
    "Execute"
   ]
  },
  {
   "cell_type": "code",
   "execution_count": 135,
   "metadata": {},
   "outputs": [
    {
     "data": {
      "text/plain": [
       "(0.375,\n",
       " array([[ 3,  2,  0,  1,  0],\n",
       "        [ 2,  4,  0,  3,  0],\n",
       "        [ 0,  1,  0, 10,  0],\n",
       "        [ 0,  0,  0,  5,  0],\n",
       "        [ 0,  0,  0,  1,  0]]))"
      ]
     },
     "execution_count": 135,
     "metadata": {},
     "output_type": "execute_result"
    }
   ],
   "source": [
    "df_clean, label_encoders = preprocess_data(df)\n",
    "X, y = separate_features_and_target(df_clean, target_col='Friendly Rating (1-10)')\n",
    "\n",
    "# Treinamento e avaliação\n",
    "model, accuracy, conf_matrix, columns_order = train_and_evaluate_model(X, y)\n",
    "\n",
    "accuracy, conf_matrix"
   ]
  },
  {
   "cell_type": "markdown",
   "metadata": {},
   "source": [
    "Test new value"
   ]
  },
  {
   "cell_type": "code",
   "execution_count": 136,
   "metadata": {},
   "outputs": [
    {
     "name": "stdout",
     "output_type": "stream",
     "text": [
      "[6]\n",
      "Friendly Level for this dog is: 6\n"
     ]
    }
   ],
   "source": [
    "new_data = pd.DataFrame({\n",
    "    'Origin': ['Scotland'], # Dog Origin Country\n",
    "    'Life Span': [5], # Dog Life span\n",
    "    'Size': ['Small'], # Dog Size\n",
    "    'Good with Children': ['No'] # Dog is good with children?\n",
    "})\n",
    "\n",
    "# Prever Name\n",
    "predicted_rating = predict_new_value(model, new_data, label_encoders, columns_order)\n",
    "print(f\"Friendly Level for this dog is: {int(predicted_rating)}\")"
   ]
  }
 ],
 "metadata": {
  "kernelspec": {
   "display_name": ".venv",
   "language": "python",
   "name": "python3"
  },
  "language_info": {
   "codemirror_mode": {
    "name": "ipython",
    "version": 3
   },
   "file_extension": ".py",
   "mimetype": "text/x-python",
   "name": "python",
   "nbconvert_exporter": "python",
   "pygments_lexer": "ipython3",
   "version": "3.12.3"
  }
 },
 "nbformat": 4,
 "nbformat_minor": 2
}
